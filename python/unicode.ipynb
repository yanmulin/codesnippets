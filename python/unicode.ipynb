{
 "cells": [
  {
   "cell_type": "code",
   "execution_count": 50,
   "metadata": {},
   "outputs": [
    {
     "name": "stdout",
     "output_type": "stream",
     "text": [
      "Character H; Code Point +U48; Bytes 48;\n",
      "Character e; Code Point +U65; Bytes 65;\n",
      "Character l; Code Point +U6C; Bytes 6C;\n",
      "Character l; Code Point +U6C; Bytes 6C;\n",
      "Character o; Code Point +U6F; Bytes 6F;\n",
      "Character ,; Code Point +U2C; Bytes 2C;\n",
      "Character  ; Code Point +U20; Bytes 20;\n",
      "Character 世; Code Point +U4E16; Bytes E4 B8 96;\n",
      "Character 界; Code Point +U754C; Bytes E7 95 8C;\n",
      "Character  ; Code Point +U20; Bytes 20;\n",
      "Character 😊; Code Point +U1F60A; Bytes F0 9F 98 8A;\n"
     ]
    }
   ],
   "source": [
    "utf8_bytes = \"Hello, 世界 😊\".encode(encoding=\"utf-8\")\n",
    "\n",
    "def get_char_length(byte):\n",
    "    if byte >> 7 == 0:\n",
    "        return 1\n",
    "    elif byte >> 5 == 0b110:\n",
    "        return 2\n",
    "    elif byte >> 4 == 0b1110:\n",
    "        return 3\n",
    "    elif byte >> 3 == 0b11110:\n",
    "        return 4\n",
    "    raise ValueError(f\"unknown byte {byte:02X}\")\n",
    "\n",
    "i = 0\n",
    "while i < len(utf8_bytes):\n",
    "    length = get_char_length(utf8_bytes[i])\n",
    "    ch = utf8_bytes[i:i+length].decode(\"utf-8\")\n",
    "    print(\"Character\", ch, end=\"; \")\n",
    "    print(f\"Code Point +U{ord(ch):02X}\", end=\"; \")\n",
    "    print(\"Bytes\", \" \".join(f\"{b:02X}\" for b in utf8_bytes[i:i+length]), end=\";\")\n",
    "    print()\n",
    "    i += length\n",
    "    \n",
    "        "
   ]
  },
  {
   "cell_type": "code",
   "execution_count": 21,
   "metadata": {},
   "outputs": [
    {
     "name": "stdout",
     "output_type": "stream",
     "text": [
      "h℮ℓℓ◎, w◎ґłⅾ‼\n",
      "'h\\u212e\\u2113\\u2113\\u25ce, w\\u25ce\\u0491\\u0142\\u217e\\u203c'\n",
      "b'h\\xe2\\x84\\xae\\xe2\\x84\\x93\\xe2\\x84\\x93\\xe2\\x97\\x8e, w\\xe2\\x97\\x8e\\xd2\\x91\\xc5\\x82\\xe2\\x85\\xbe\\xe2\\x80\\xbc'\n",
      "\n",
      "h; Ll; LATIN SMALL LETTER H\n",
      "℮; So; ESTIMATED SYMBOL\n",
      "ℓ; Ll; SCRIPT SMALL L\n",
      "ℓ; Ll; SCRIPT SMALL L\n",
      "◎; So; BULLSEYE\n",
      ",; Po; COMMA\n",
      " ; Zs; SPACE\n",
      "w; Ll; LATIN SMALL LETTER W\n",
      "◎; So; BULLSEYE\n",
      "ґ; Ll; CYRILLIC SMALL LETTER GHE WITH UPTURN\n",
      "ł; Ll; LATIN SMALL LETTER L WITH STROKE\n",
      "ⅾ; Nl; SMALL ROMAN NUMERAL FIVE HUNDRED\n",
      "‼; Po; DOUBLE EXCLAMATION MARK\n"
     ]
    }
   ],
   "source": [
    "import unicodedata\n",
    "\n",
    "s = \"h℮ℓℓ◎, w◎ґłⅾ‼\"\n",
    "print(s, ascii(s), bytes(s, encoding=\"utf-8\"), sep=\"\\n\")\n",
    "print()\n",
    "\n",
    "for ch in s:\n",
    "    category = unicodedata.category(ch)\n",
    "    name = unicodedata.name(ch)\n",
    "    print(ch, category, name, sep=\"; \")"
   ]
  },
  {
   "cell_type": "code",
   "execution_count": 22,
   "metadata": {},
   "outputs": [
    {
     "name": "stdout",
     "output_type": "stream",
     "text": [
      "b'h\\xe2\\x84\\xae\\xe2\\x84\\x93\\xe2\\x84\\x93\\xe2\\x97\\x8e, w\\xe2\\x97\\x8e\\xd2\\x91\\xc5\\x82\\xe2\\x85\\xbe\\xe2\\x80\\xbc' <class 'bytes'> len= 29\n",
      "h℮ℓℓ◎, w◎ґłⅾ‼\n"
     ]
    }
   ],
   "source": [
    "b = bytes(s, encoding=\"utf-8\")\n",
    "print(b, type(b), \"len=\", len(b))\n",
    "print(b.decode(encoding=\"utf-8\"))"
   ]
  },
  {
   "cell_type": "markdown",
   "metadata": {},
   "source": [
    "## Normalize Unicode"
   ]
  },
  {
   "cell_type": "code",
   "execution_count": null,
   "metadata": {},
   "outputs": [
    {
     "name": "stdout",
     "output_type": "stream",
     "text": [
      "Spicy Jalapeño Spicy Jalapeño\n",
      "False\n",
      "14 15\n"
     ]
    }
   ],
   "source": [
    "s1 = \"Spicy Jalape\\u00f1o\"\n",
    "s2 = \"Spicy Jalapen\\u0303o\"\n",
    "print(\"str: \", s1, s2)\n",
    "print(\"ascii: \", ascii(s1), ascii(s2))\n",
    "print(\"compare: \", s1 == s2)\n",
    "print(\"len: \", len(s1), len(s2))\n"
   ]
  },
  {
   "cell_type": "code",
   "execution_count": 26,
   "metadata": {},
   "outputs": [
    {
     "name": "stdout",
     "output_type": "stream",
     "text": [
      "str:  Spicy Jalapeño Spicy Jalapeño\n",
      "ascii:  'Spicy Jalape\\xf1o' 'Spicy Jalape\\xf1o'\n",
      "compare:  True\n",
      "len:  14 14\n"
     ]
    }
   ],
   "source": [
    "import unicodedata\n",
    "\n",
    "t1 = unicodedata.normalize(\"NFC\", s1)\n",
    "t2 = unicodedata.normalize(\"NFC\", s2)\n",
    "print(\"str: \", t1, t2)\n",
    "print(\"ascii: \", ascii(t1), ascii(t2))\n",
    "print(\"compare: \", t1 == t2)\n",
    "print(\"len: \", len(t1), len(t2))\n"
   ]
  },
  {
   "cell_type": "code",
   "execution_count": 27,
   "metadata": {},
   "outputs": [
    {
     "name": "stdout",
     "output_type": "stream",
     "text": [
      "str:  Spicy Jalapeño Spicy Jalapeño\n",
      "ascii:  'Spicy Jalapen\\u0303o' 'Spicy Jalapen\\u0303o'\n",
      "compare:  True\n",
      "len:  15 15\n"
     ]
    }
   ],
   "source": [
    "import unicodedata\n",
    "\n",
    "t3 = unicodedata.normalize(\"NFD\", s1)\n",
    "t4 = unicodedata.normalize(\"NFD\", s2)\n",
    "print(\"str: \", t3, t4)\n",
    "print(\"ascii: \", ascii(t3), ascii(t4))\n",
    "print(\"compare: \", t3 == t4)\n",
    "print(\"len: \", len(t3), len(t4))"
   ]
  },
  {
   "cell_type": "code",
   "execution_count": 28,
   "metadata": {},
   "outputs": [
    {
     "name": "stdout",
     "output_type": "stream",
     "text": [
      "ﬁ\n",
      "ﬁ ﬁ\n",
      "fi fi\n"
     ]
    }
   ],
   "source": [
    "import unicodedata\n",
    "\n",
    "s = \"\\ufb01\"\n",
    "print(s)\n",
    "print(unicodedata.normalize(\"NFC\", s), unicodedata.normalize(\"NFD\", s))\n",
    "print(unicodedata.normalize(\"NFKD\", s), unicodedata.normalize(\"NFKC\", s))"
   ]
  },
  {
   "cell_type": "code",
   "execution_count": null,
   "metadata": {},
   "outputs": [
    {
     "name": "stdout",
     "output_type": "stream",
     "text": [
      "Spicy Jalapeno\n"
     ]
    }
   ],
   "source": [
    "import unicodedata\n",
    "\n",
    "# remove diacritical Marks\n",
    "print(''.join(c for c in \"Spicy Jalapen\\u0303o\" if not unicodedata.combining(c)))"
   ]
  },
  {
   "cell_type": "markdown",
   "metadata": {},
   "source": [
    "## Unicode + RegEx"
   ]
  },
  {
   "cell_type": "code",
   "execution_count": 32,
   "metadata": {},
   "outputs": [
    {
     "name": "stdout",
     "output_type": "stream",
     "text": [
      "<re.Match object; span=(0, 3), match='123'>\n",
      "<re.Match object; span=(0, 3), match='١٢٣'>\n"
     ]
    }
   ],
   "source": [
    "import re\n",
    "\n",
    "pat = re.compile(\"\\d+\")\n",
    "print(pat.match(\"123\"))\n",
    "print(pat.match(\"\\u0661\\u0662\\u0663\")) # ١٢٣"
   ]
  },
  {
   "cell_type": "code",
   "execution_count": null,
   "metadata": {},
   "outputs": [
    {
     "name": "stdout",
     "output_type": "stream",
     "text": [
      "<re.Match object; span=(0, 3), match='١٢٣'>\n"
     ]
    }
   ],
   "source": [
    "import re\n",
    "\n",
    "arabic = re.compile('[\\u0600-\\u06ff\\u0750-\\u077f\\u08a0-\\u08ff]+')\n",
    "print(arabic.match(\"\\u0661\\u0662\\u0663\"))"
   ]
  },
  {
   "cell_type": "code",
   "execution_count": 39,
   "metadata": {},
   "outputs": [
    {
     "name": "stdout",
     "output_type": "stream",
     "text": [
      "<re.Match object; span=(0, 6), match='straße'>\n",
      "None\n"
     ]
    }
   ],
   "source": [
    "pat = re.compile(\"stra\\u00dfe\", re.IGNORECASE)\n",
    "s = \"straße\"\n",
    "print(pat.match(s))\n",
    "print(pat.match(s.upper()))"
   ]
  },
  {
   "cell_type": "code",
   "execution_count": null,
   "metadata": {},
   "outputs": [],
   "source": []
  }
 ],
 "metadata": {
  "kernelspec": {
   "display_name": "Python 3",
   "language": "python",
   "name": "python3"
  },
  "language_info": {
   "codemirror_mode": {
    "name": "ipython",
    "version": 3
   },
   "file_extension": ".py",
   "mimetype": "text/x-python",
   "name": "python",
   "nbconvert_exporter": "python",
   "pygments_lexer": "ipython3",
   "version": "3.9.6"
  }
 },
 "nbformat": 4,
 "nbformat_minor": 2
}

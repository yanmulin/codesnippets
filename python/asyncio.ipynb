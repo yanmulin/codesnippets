{
 "cells": [
  {
   "cell_type": "code",
   "execution_count": 8,
   "id": "db4f91ab",
   "metadata": {},
   "outputs": [],
   "source": [
    "import asyncio\n",
    "from asyncio import CancelledError\n",
    "\n",
    "async def run():\n",
    "    print(\"start sleeping\")\n",
    "    await asyncio.sleep(10)\n",
    "    print(\"done sleeping\")\n"
   ]
  },
  {
   "cell_type": "code",
   "execution_count": 9,
   "id": "0e2100b9",
   "metadata": {},
   "outputs": [
    {
     "name": "stdout",
     "output_type": "stream",
     "text": [
      "start sleeping\n",
      "task cancelled \n"
     ]
    }
   ],
   "source": [
    "task = asyncio.create_task(run())\n",
    "await asyncio.sleep(1)\n",
    "\n",
    "task.cancel()\n",
    "\n",
    "try:\n",
    "    await task\n",
    "    print(\"never run\")\n",
    "except CancelledError as e:\n",
    "    print(f\"task cancelled {e}\")"
   ]
  },
  {
   "cell_type": "code",
   "execution_count": 10,
   "id": "49a36234",
   "metadata": {},
   "outputs": [
    {
     "name": "stdout",
     "output_type": "stream",
     "text": [
      "start sleeping\n",
      "task cancelled \n"
     ]
    },
    {
     "name": "stdout",
     "output_type": "stream",
     "text": [
      "done sleeping\n"
     ]
    }
   ],
   "source": [
    "shielded_task = asyncio.shield(asyncio.create_task(run()))\n",
    "await asyncio.sleep(1)\n",
    "\n",
    "shielded_task.cancel()\n",
    "\n",
    "try:\n",
    "    await shielded_task\n",
    "    print(\"never run\")\n",
    "except CancelledError as e:\n",
    "    print(f\"task cancelled {e}\")"
   ]
  }
 ],
 "metadata": {
  "kernelspec": {
   "display_name": "Python 3",
   "language": "python",
   "name": "python3"
  },
  "language_info": {
   "codemirror_mode": {
    "name": "ipython",
    "version": 3
   },
   "file_extension": ".py",
   "mimetype": "text/x-python",
   "name": "python",
   "nbconvert_exporter": "python",
   "pygments_lexer": "ipython3",
   "version": "3.12.7"
  }
 },
 "nbformat": 4,
 "nbformat_minor": 5
}

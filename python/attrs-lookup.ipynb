{
 "cells": [
  {
   "cell_type": "code",
   "execution_count": 33,
   "metadata": {},
   "outputs": [
    {
     "name": "stdout",
     "output_type": "stream",
     "text": [
      "descriptorX of D instance attribute y of D\n"
     ]
    }
   ],
   "source": [
    "class OverridingDescriptorX:\n",
    "    def __init__(self, name):\n",
    "        self.name = name\n",
    "    \n",
    "    def __get__(self, obj, obj_type):\n",
    "        return 'descriptorX of %s' % (self.name, )\n",
    "    \n",
    "    def __set__(self, obj, value):\n",
    "        obj.__dict__['__x'] = value\n",
    "\n",
    "class NonOverridingDescriptorY:\n",
    "    def __init__(self, name):\n",
    "        self.name = name\n",
    "    \n",
    "    def __get__(self, obj, obj_type):\n",
    "        return 'descriptorY of %s' % (self.name, )\n",
    "\n",
    "class A:\n",
    "    x = OverridingDescriptorX('A')\n",
    "    y = NonOverridingDescriptorY('A')\n",
    "\n",
    "class D(A):\n",
    "    x = OverridingDescriptorX('D')\n",
    "    y = NonOverridingDescriptorY('D')\n",
    "\n",
    "    def __init__(self):\n",
    "        self.x = 'instance attribute x of D'\n",
    "        self.y = 'instance attribute y of D'\n",
    "\n",
    "d = D()\n",
    "print(d.x, d.y)"
   ]
  },
  {
   "cell_type": "code",
   "execution_count": 35,
   "metadata": {},
   "outputs": [
    {
     "name": "stdout",
     "output_type": "stream",
     "text": [
      "descriptorX of A instance attribute y of D\n"
     ]
    }
   ],
   "source": [
    "class A:\n",
    "    x = OverridingDescriptorX('A')\n",
    "    y = NonOverridingDescriptorY('A')\n",
    "\n",
    "class D(A):\n",
    "    def __init__(self):\n",
    "        self.x = 'instance attribute x of D'\n",
    "        self.y = 'instance attribute y of D'\n",
    "\n",
    "d = D()\n",
    "print(d.x, d.y)"
   ]
  },
  {
   "cell_type": "code",
   "execution_count": 37,
   "metadata": {},
   "outputs": [
    {
     "name": "stdout",
     "output_type": "stream",
     "text": [
      "descriptorX of A descriptorY of A\n"
     ]
    }
   ],
   "source": [
    "class A:\n",
    "    x = OverridingDescriptorX('A')\n",
    "    y = NonOverridingDescriptorY('A')\n",
    "\n",
    "class D(A):\n",
    "    def __init__(self):\n",
    "        self.x = 'instance attribute x of D'\n",
    "\n",
    "d = D()\n",
    "print(d.x, d.y)"
   ]
  },
  {
   "cell_type": "code",
   "execution_count": 15,
   "metadata": {},
   "outputs": [
    {
     "name": "stdout",
     "output_type": "stream",
     "text": [
      "instance attribute of C\n",
      "{'x': 'instance attribute of C'}\n"
     ]
    }
   ],
   "source": [
    "class A:\n",
    "    x = 'class attribute of A'\n",
    "    \n",
    "    def __init__(self):\n",
    "        self.x = 'instance attribute of A'\n",
    "    \n",
    "    def __getattr__(self, name):\n",
    "        print('A: __getattr__(%s)' % (name, ))\n",
    "\n",
    "class B:\n",
    "    x = 'class attribute of B'\n",
    "\n",
    "    def __init__(self):\n",
    "        self.x = 'instance attribute of B'\n",
    "    \n",
    "    def __getattr__(self, name):\n",
    "        print('B: __getattr__(%s)' % (name, ))\n",
    "\n",
    "class C(A, B):\n",
    "    x = 'class attribute of C'\n",
    "    \n",
    "    def __init__(self):\n",
    "        self.x = 'instance attribute of C'\n",
    "    \n",
    "    def __getattr__(self, name):\n",
    "        print('C: __getattr__(%s)' % (name, ))\n",
    "\n",
    "c = C()\n",
    "print(c.x)\n",
    "print(c.__dict__)"
   ]
  },
  {
   "cell_type": "code",
   "execution_count": 16,
   "metadata": {},
   "outputs": [
    {
     "name": "stdout",
     "output_type": "stream",
     "text": [
      "instance attribute of A\n"
     ]
    }
   ],
   "source": [
    "class C(A, B):\n",
    "    x = 'class attribute of C'\n",
    "    \n",
    "    def __getattr__(self, name):\n",
    "        print('C: __getattr__(name)')\n",
    "\n",
    "c = C()\n",
    "print(c.x)"
   ]
  },
  {
   "cell_type": "code",
   "execution_count": 17,
   "metadata": {},
   "outputs": [
    {
     "name": "stdout",
     "output_type": "stream",
     "text": [
      "instance attribute of B\n"
     ]
    }
   ],
   "source": [
    "class A:\n",
    "    x = 'class attribute of A'\n",
    "    \n",
    "    def __getattr__(self, name):\n",
    "        print('A: __getattr__(%s)' % (name, ))\n",
    "\n",
    "class C(A, B):\n",
    "    x = 'class attribute of C'\n",
    "    \n",
    "    def __getattr__(self, name):\n",
    "        print('C: __getattr__(%s)' % (name, ))\n",
    "\n",
    "c = C()\n",
    "print(c.x)"
   ]
  },
  {
   "cell_type": "code",
   "execution_count": 18,
   "metadata": {},
   "outputs": [
    {
     "name": "stdout",
     "output_type": "stream",
     "text": [
      "class attribute of C\n"
     ]
    }
   ],
   "source": [
    "class B:\n",
    "    x = 'class attribute of B'\n",
    "    \n",
    "    def __getattr__(self, name):\n",
    "        print('B: __getattr__(%s)' % (name, ))\n",
    "\n",
    "class C(A, B):\n",
    "    x = 'class attribute of C'\n",
    "    \n",
    "    def __getattr__(self, name):\n",
    "        print('C: __getattr__(%s)' % (name, ))\n",
    "\n",
    "c = C()\n",
    "print(c.x)"
   ]
  },
  {
   "cell_type": "code",
   "execution_count": 19,
   "metadata": {},
   "outputs": [
    {
     "name": "stdout",
     "output_type": "stream",
     "text": [
      "class attribute of A\n"
     ]
    }
   ],
   "source": [
    "class C(A, B):\n",
    "    def __getattr__(self, name):\n",
    "        print('C: __getattr__(%s)' % (name, ))\n",
    "\n",
    "c = C()\n",
    "print(c.x)"
   ]
  },
  {
   "cell_type": "code",
   "execution_count": 20,
   "metadata": {},
   "outputs": [
    {
     "name": "stdout",
     "output_type": "stream",
     "text": [
      "class attribute of B\n"
     ]
    }
   ],
   "source": [
    "class A:\n",
    "    def __getattr__(self, name):\n",
    "        print('A: __getattr__(%s)' % (name, ))\n",
    "\n",
    "class C(A, B):\n",
    "    def __getattr__(self, name):\n",
    "        print('A: __getattr__(%s)' % (name, ))\n",
    "\n",
    "c = C()\n",
    "print(c.x)"
   ]
  },
  {
   "cell_type": "code",
   "execution_count": 21,
   "metadata": {},
   "outputs": [
    {
     "name": "stdout",
     "output_type": "stream",
     "text": [
      "C: __getattr__(name)\n",
      "None\n"
     ]
    }
   ],
   "source": [
    "class A:\n",
    "    def __getattr__(self, name):\n",
    "        print('A: __getattr__(name)')\n",
    "\n",
    "class B:\n",
    "    def __getattr__(self, name):\n",
    "        print('B: __getattr__(name)')\n",
    "\n",
    "class C(A, B):\n",
    "    def __getattr__(self, name):\n",
    "        print('C: __getattr__(name)')\n",
    "\n",
    "c = C()\n",
    "print(c.x)"
   ]
  },
  {
   "cell_type": "code",
   "execution_count": 22,
   "metadata": {},
   "outputs": [
    {
     "name": "stdout",
     "output_type": "stream",
     "text": [
      "A: __getattr__(name)\n",
      "None\n"
     ]
    }
   ],
   "source": [
    "class C(A, B):\n",
    "    pass\n",
    "\n",
    "c = C()\n",
    "print(c.x)"
   ]
  },
  {
   "cell_type": "code",
   "execution_count": 32,
   "metadata": {},
   "outputs": [
    {
     "ename": "AttributeError",
     "evalue": "'C' object has no attribute 'x'",
     "output_type": "error",
     "traceback": [
      "\u001b[0;31m---------------------------------------------------------------------------\u001b[0m",
      "\u001b[0;31mAttributeError\u001b[0m                            Traceback (most recent call last)",
      "Cell \u001b[0;32mIn[32], line 5\u001b[0m\n\u001b[1;32m      2\u001b[0m     \u001b[39mpass\u001b[39;00m\n\u001b[1;32m      4\u001b[0m c \u001b[39m=\u001b[39m C()\n\u001b[0;32m----> 5\u001b[0m \u001b[39mprint\u001b[39m(c\u001b[39m.\u001b[39;49mx)\n",
      "\u001b[0;31mAttributeError\u001b[0m: 'C' object has no attribute 'x'"
     ]
    }
   ],
   "source": [
    "class C:\n",
    "    pass\n",
    "\n",
    "c = C()\n",
    "print(c.x)"
   ]
  },
  {
   "cell_type": "code",
   "execution_count": null,
   "metadata": {},
   "outputs": [],
   "source": []
  }
 ],
 "metadata": {
  "kernelspec": {
   "display_name": "Python 3",
   "language": "python",
   "name": "python3"
  },
  "language_info": {
   "codemirror_mode": {
    "name": "ipython",
    "version": 3
   },
   "file_extension": ".py",
   "mimetype": "text/x-python",
   "name": "python",
   "nbconvert_exporter": "python",
   "pygments_lexer": "ipython3",
   "version": "3.9.10 (main, Nov 21 2022, 16:25:07) \n[Clang 14.0.0 (clang-1400.0.29.202)]"
  },
  "orig_nbformat": 4,
  "vscode": {
   "interpreter": {
    "hash": "130bacdf9573dc7193b334a08cc93abf39ecb586813303fa9a27b089a9b8e574"
   }
  }
 },
 "nbformat": 4,
 "nbformat_minor": 2
}

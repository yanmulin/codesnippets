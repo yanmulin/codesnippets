{
 "cells": [
  {
   "cell_type": "markdown",
   "id": "599297e1",
   "metadata": {},
   "source": [
    "### Adjacent List Model\n"
   ]
  },
  {
   "cell_type": "markdown",
   "id": "3cf07682",
   "metadata": {},
   "source": [
    "(setup)\n",
    "\n",
    "```\n",
    "docker run --name my-postgres -e POSTGRES_PASSWORD=mysecretpassword -p 5432:5432 -d postgres\n",
    "```"
   ]
  },
  {
   "cell_type": "code",
   "execution_count": 5,
   "id": "704543c1",
   "metadata": {},
   "outputs": [],
   "source": [
    "import psycopg2\n",
    "import textwrap\n",
    "import contextlib\n",
    "\n",
    "conn = psycopg2.connect(\n",
    "    host=\"localhost\",\n",
    "    port=5432,\n",
    "    database=\"postgres\",      # default DB\n",
    "    user=\"postgres\",          # default user\n",
    "    password=\"mysecretpassword\"\n",
    ")\n",
    "\n",
    "def setup():\n",
    "    cur = conn.cursor()\n",
    "    cur.execute(\"DROP TABLE IF EXISTS parent_child_adjent_list\")\n",
    "    cur.execute(textwrap.dedent(\"\"\"\n",
    "        CREATE TABLE parent_child_adjent_list (\n",
    "            id INT,\n",
    "            first_name TEXT,\n",
    "            last_name TEXT,\n",
    "            parent_id INT\n",
    "        );\n",
    "    \"\"\"))\n",
    "    cur.close()\n",
    "    conn.commit()\n",
    "\n",
    "@contextlib.contextmanager\n",
    "def session():\n",
    "    cur = conn.cursor()\n",
    "    try:\n",
    "        cur.execute(\"DELETE FROM parent_child_adjent_list\")\n",
    "        cur.execute(textwrap.dedent(\"\"\"\n",
    "            INSERT INTO parent_child_adjent_list (id, first_name, last_name, parent_id) VALUES\n",
    "                (1, 'Rosa', 'Wellington', NULL), (2, 'Jon', 'Wellington', 1), (3, 'Joni', 'Wellington', 1),\n",
    "                (4, 'Marge', 'Wellington', 1), (5, 'Mary', 'Dijkstra', 2), (6, 'Frank', 'Wellington', 2),\n",
    "                (7, 'Jason', 'Wellington', 3), (8, 'Bobby', 'Wellington', 4), (9, 'Sammy', 'Wellington', 4),\n",
    "                (10, 'Sarah', 'Wellington', 4), (11, 'Sam Francis', 'Dijkstra', 5), (12, 'Stephen', 'Wellington', 6),\n",
    "                (13, 'Trent', 'Wellington', 6), (14, 'June', 'Wellington', 9), (15, 'Josephine', 'Wellington', 9),\n",
    "                (16, 'Suzy', 'Wellington', 9);\n",
    "        \"\"\"))\n",
    "        yield cur\n",
    "    except Exception:\n",
    "        conn.rollback()\n",
    "        raise\n",
    "    finally:\n",
    "        cur.close()\n",
    "\n",
    "def run(cur, sql):\n",
    "    cur.execute(sql)\n",
    "    return cur.fetchall()\n",
    "\n",
    "setup()"
   ]
  },
  {
   "cell_type": "markdown",
   "id": "6f7e500a",
   "metadata": {},
   "source": [
    "##### Find one ancestors\n",
    "\n",
    "e.g., for each node, find its parent node."
   ]
  },
  {
   "cell_type": "code",
   "execution_count": 7,
   "id": "a0532d46",
   "metadata": {},
   "outputs": [
    {
     "name": "stdout",
     "output_type": "stream",
     "text": [
      "[('Marge', 'Wellington', 'Rosa', 'Wellington'), ('Joni', 'Wellington', 'Rosa', 'Wellington'), ('Jon', 'Wellington', 'Rosa', 'Wellington'), ('Frank', 'Wellington', 'Jon', 'Wellington'), ('Mary', 'Dijkstra', 'Jon', 'Wellington'), ('Jason', 'Wellington', 'Joni', 'Wellington'), ('Sarah', 'Wellington', 'Marge', 'Wellington'), ('Sammy', 'Wellington', 'Marge', 'Wellington'), ('Bobby', 'Wellington', 'Marge', 'Wellington'), ('Sam Francis', 'Dijkstra', 'Mary', 'Dijkstra'), ('Trent', 'Wellington', 'Frank', 'Wellington'), ('Stephen', 'Wellington', 'Frank', 'Wellington'), ('Suzy', 'Wellington', 'Sammy', 'Wellington'), ('Josephine', 'Wellington', 'Sammy', 'Wellington'), ('June', 'Wellington', 'Sammy', 'Wellington')]\n"
     ]
    }
   ],
   "source": [
    "with session() as cursor:\n",
    "    print(run(cursor, textwrap.dedent(\"\"\"\n",
    "        SELECT \n",
    "            child.first_name,\n",
    "            child.last_name,\n",
    "            parent.first_name,\n",
    "            parent.last_name\n",
    "        FROM parent_child_adjent_list AS parent\n",
    "        JOIN parent_child_adjent_list AS child ON parent.id = child.parent_id\n",
    "    \"\"\")))"
   ]
  },
  {
   "cell_type": "markdown",
   "id": "c9d093ea",
   "metadata": {},
   "source": [
    "##### Find one descendents\n",
    "\n",
    "..."
   ]
  },
  {
   "cell_type": "markdown",
   "id": "55d44db7",
   "metadata": {},
   "source": [
    "##### Depth/Level\n",
    "\n",
    "Recursive CTE(Common Table Expression)\n",
    "\n",
    "e.g., get a generation number for each node\n"
   ]
  },
  {
   "cell_type": "code",
   "execution_count": null,
   "id": "ba573d29",
   "metadata": {},
   "outputs": [
    {
     "name": "stdout",
     "output_type": "stream",
     "text": [
      "[(1, 'Rosa', 'Wellington', 1), (2, 'Jon', 'Wellington', 2), (3, 'Joni', 'Wellington', 2), (4, 'Marge', 'Wellington', 2), (5, 'Mary', 'Dijkstra', 3), (6, 'Frank', 'Wellington', 3), (7, 'Jason', 'Wellington', 3), (8, 'Bobby', 'Wellington', 3), (9, 'Sammy', 'Wellington', 3), (10, 'Sarah', 'Wellington', 3), (11, 'Sam Francis', 'Dijkstra', 4), (12, 'Stephen', 'Wellington', 4), (13, 'Trent', 'Wellington', 4), (14, 'June', 'Wellington', 4), (15, 'Josephine', 'Wellington', 4), (16, 'Suzy', 'Wellington', 4)]\n"
     ]
    }
   ],
   "source": [
    "with session() as cursor:\n",
    "    print(run(cursor, textwrap.dedent(\"\"\"\n",
    "        WITH RECURSIVE generation AS (\n",
    "            SELECT \n",
    "                id, first_name, last_name, 1 AS generation_number \n",
    "            FROM parent_child_adjent_list \n",
    "            WHERE parent_id IS NULL\n",
    "            UNION ALL\n",
    "            SELECT \n",
    "                child.id, child.first_name, child.last_name, g.generation_number + 1 AS generation_number\n",
    "            FROM parent_child_adjent_list child\n",
    "            JOIN generation g ON child.parent_id = g.id\n",
    "        ) SELECT * FROM generation;\n",
    "    \"\"\")))\n"
   ]
  },
  {
   "cell_type": "markdown",
   "id": "f0813392",
   "metadata": {},
   "source": [
    "### Modified Preorder Tree Traversal(MPTT)\n",
    "\n",
    "Represent tree with a **nested-set data structure**\n",
    "\n",
    "* assign a range to each node: (left, right)\n",
    "* parent's range is a superset of its children ranges\n",
    "\n",
    "For example, to represent the hierarchy in an organization,\n",
    "\n",
    "|  Name  | left | right |\n",
    "| ------ | ---- | ----- |\n",
    "| Albert |   1  |  12   |\n",
    "| Bert   |   2  |  3    |\n",
    "| Chuck  |   4  |  11   |\n",
    "| Donna  |   5  |  6    |\n",
    "| Eddie  |   7  |  8    |\n",
    "| Fred   |   9  |  10   |\n",
    "\n",
    "![Tree](https://www.ibase.ru/files/articles/programming/dbmstrees/Celko.10.19.Fig1s.gif)\n",
    "\n",
    "Performance\n",
    "* Efficient retrieval operations\n",
    "* Trade-off: inserts, update\n",
    " "
   ]
  },
  {
   "cell_type": "markdown",
   "id": "638169ee",
   "metadata": {},
   "source": [
    "(setup)\n",
    "\n",
    "```\n",
    "docker run --name my-postgres -e POSTGRES_PASSWORD=mysecretpassword -p 5432:5432 -d postgres\n",
    "```"
   ]
  },
  {
   "cell_type": "code",
   "execution_count": null,
   "id": "34398510",
   "metadata": {},
   "outputs": [],
   "source": [
    "import psycopg2\n",
    "import textwrap\n",
    "import contextlib\n",
    "\n",
    "conn = psycopg2.connect(\n",
    "    host=\"localhost\",\n",
    "    port=5432,\n",
    "    database=\"postgres\",      # default DB\n",
    "    user=\"postgres\",          # default user\n",
    "    password=\"mysecretpassword\"\n",
    ")\n",
    "\n",
    "def setup():\n",
    "    cur = conn.cursor()\n",
    "    cur.execute(\"DROP TABLE IF EXISTS personnel_mptt\")\n",
    "    cur.execute(textwrap.dedent(\"\"\"\n",
    "        CREATE TABLE personnel_mptt (\n",
    "            name TEXT,\n",
    "            vleft INT,\n",
    "            vright INT\n",
    "        );\n",
    "    \"\"\"))\n",
    "    cur.execute(\"DROP TABLE IF EXISTS salary_mptt\")\n",
    "    cur.execute(textwrap.dedent(\"\"\"\n",
    "        CREATE TABLE salary_mptt (\n",
    "            name TEXT,\n",
    "            amount INT\n",
    "        );\n",
    "    \"\"\"))\n",
    "    cur.close()\n",
    "    conn.commit()\n",
    "\n",
    "@contextlib.contextmanager\n",
    "def session():\n",
    "    cur = conn.cursor()\n",
    "    try:\n",
    "        cur.execute(\"DELETE FROM personnel_mptt\")\n",
    "        cur.execute(textwrap.dedent(\"\"\"\n",
    "            INSERT INTO personnel_mptt (name, vleft, vright) VALUES\n",
    "                ('Albert', 1, 12), ('Bert', 2, 3), ('Chuck', 4, 11),\n",
    "                ('Donna', 5, 6), ('Eddie', 7, 8), ('Fred', 9, 10);\n",
    "        \"\"\"))\n",
    "        cur.execute(\"DELETE FROM salary_mptt\")\n",
    "        cur.execute(textwrap.dedent(\"\"\"\n",
    "            INSERT INTO salary_mptt (name, amount) VALUES\n",
    "                ('Albert', 100), ('Bert', 85), ('Chuck', 70),\n",
    "                ('Donna', 60), ('Eddie', 65), ('Fred', 50);\n",
    "        \"\"\"))\n",
    "        yield cur\n",
    "    except Exception:\n",
    "        conn.rollback()\n",
    "        raise\n",
    "    finally:\n",
    "        cur.close()\n",
    "\n",
    "def run(cur, sql):\n",
    "    cur.execute(sql)\n",
    "    return cur.fetchall()\n",
    "\n",
    "setup()\n"
   ]
  },
  {
   "cell_type": "markdown",
   "id": "2ffd50f0",
   "metadata": {},
   "source": [
    "##### Find one/all ancestors\n",
    "\n",
    "e.g., find Eddie and all his supervisors, no matter how deep the tree."
   ]
  },
  {
   "cell_type": "code",
   "execution_count": 3,
   "id": "22829bc8",
   "metadata": {},
   "outputs": [
    {
     "name": "stdout",
     "output_type": "stream",
     "text": [
      "[('Albert', 1, 12), ('Chuck', 4, 11), ('Eddie', 7, 8)]\n"
     ]
    }
   ],
   "source": [
    "with session() as cursor:\n",
    "    print(run(cursor, textwrap.dedent(\"\"\"\n",
    "        SELECT p2.*\n",
    "        FROM personnel_mptt AS p1, personnel_mptt AS p2\n",
    "        WHERE p1.name = 'Eddie'\n",
    "            AND p1.vleft BETWEEN p2.vleft AND p2.vright\n",
    "    \"\"\")))"
   ]
  },
  {
   "cell_type": "markdown",
   "id": "6406b1b8",
   "metadata": {},
   "source": [
    "##### Find one/all descendants\n",
    "\n",
    "Find the Chuck and all his subordinates."
   ]
  },
  {
   "cell_type": "code",
   "execution_count": 4,
   "id": "7eb08c09",
   "metadata": {},
   "outputs": [
    {
     "name": "stdout",
     "output_type": "stream",
     "text": [
      "[('Chuck', 4, 11), ('Donna', 5, 6), ('Eddie', 7, 8), ('Fred', 9, 10)]\n"
     ]
    }
   ],
   "source": [
    "with session() as cursor:\n",
    "    print(run(cursor, textwrap.dedent(\"\"\"\n",
    "        SELECT p2.*\n",
    "        FROM personnel_mptt AS p1, personnel_mptt AS p2\n",
    "        WHERE p1.name = 'Chuck'\n",
    "            AND p2.vleft BETWEEN p1.vleft AND p1.vright\n",
    "    \"\"\")))"
   ]
  },
  {
   "cell_type": "markdown",
   "id": "b064a06f",
   "metadata": {},
   "source": [
    "##### Aggregate\n",
    "\n",
    "Calculate the total salaries that each employee controls."
   ]
  },
  {
   "cell_type": "code",
   "execution_count": 5,
   "id": "eaacddaf",
   "metadata": {},
   "outputs": [
    {
     "name": "stdout",
     "output_type": "stream",
     "text": [
      "[('Eddie', 65), ('Chuck', 245), ('Bert', 85), ('Donna', 60), ('Fred', 50), ('Albert', 430)]\n"
     ]
    }
   ],
   "source": [
    "with session() as cursor:\n",
    "    print(run(cursor, textwrap.dedent(\"\"\"\n",
    "        SELECT p1.name, SUM(s.amount)\n",
    "        FROM personnel_mptt AS p1, personnel_mptt AS p2\n",
    "        JOIN salary_mptt AS s ON p2.name = s.name\n",
    "        WHERE p2.vleft BETWEEN p1.vleft AND p1.vright\n",
    "        GROUP BY p1.name\n",
    "    \"\"\")))"
   ]
  },
  {
   "cell_type": "markdown",
   "id": "0d66e6ff",
   "metadata": {},
   "source": [
    "##### Depth/Level\n",
    "\n",
    "Find the level of each node and order by levels, so you can print the tree as an indented listing.\n",
    "\n",
    "Similar to find all ancestor, but count ancestors."
   ]
  },
  {
   "cell_type": "code",
   "execution_count": 25,
   "id": "76f84699",
   "metadata": {},
   "outputs": [
    {
     "name": "stdout",
     "output_type": "stream",
     "text": [
      "[('Albert', 1), ('Bert', 2), ('Chuck', 2), ('Donna', 3), ('Eddie', 3), ('Fred', 3)]\n"
     ]
    }
   ],
   "source": [
    "with session() as cursor:\n",
    "    print(run(cursor, textwrap.dedent(\"\"\"\n",
    "        SELECT p1.name, COUNT(p2.*) AS level\n",
    "        FROM personnel_mptt AS p1, personnel_mptt AS p2\n",
    "        WHERE p1.vleft BETWEEN p2.vleft AND p2.vright\n",
    "        GROUP BY p1.name, p1.vleft\n",
    "        ORDER BY p1.vleft\n",
    "    \"\"\")))"
   ]
  },
  {
   "cell_type": "markdown",
   "id": "ff16e783",
   "metadata": {},
   "source": [
    "##### Insert \n",
    "\n",
    "The nested set model implies an ordering of siblings. Insert a new node Brian under Albert and between Bert and Chuck.\n",
    "\n",
    "1. Find Brian's rightmost sibling: Bert `(2, 3)`\n",
    "2. Assign Brian with range `(4, 5)`\n",
    "3. Update left/right for his right siblings and their descendants: Chuck and ...\n",
    "4. Update right for his ancestors: Albert, ...\n"
   ]
  },
  {
   "cell_type": "code",
   "execution_count": 44,
   "id": "a88cdd75",
   "metadata": {},
   "outputs": [
    {
     "name": "stdout",
     "output_type": "stream",
     "text": [
      "[('Albert', 1, 14), ('Bert', 2, 3), ('Brian', 4, 5), ('Chuck', 6, 13), ('Donna', 7, 8), ('Eddie', 9, 10), ('Fred', 11, 12)]\n"
     ]
    }
   ],
   "source": [
    "with session() as cursor:\n",
    "    cursor.execute(textwrap.dedent(\"\"\"\n",
    "        DO $$\n",
    "        DECLARE \n",
    "            rightmost_sibling INTEGER;\n",
    "        BEGIN\n",
    "            SELECT vright INTO rightmost_sibling FROM personnel_mptt WHERE name = 'Bert';\n",
    "            \n",
    "            UPDATE personnel_mptt\n",
    "            SET vleft = CASE WHEN vleft >= rightmost_sibling + 1 THEN vleft + 2\n",
    "                            ELSE vleft END,\n",
    "                vright = CASE WHEN vright >= rightmost_sibling + 2 THEN vright + 2\n",
    "                            ELSE vright END\n",
    "            WHERE vright >= rightmost_sibling + 1;\n",
    "\n",
    "            INSERT INTO personnel_mptt (name, vleft, vright)\n",
    "            VALUES ('Brian', rightmost_sibling + 1, rightmost_sibling + 2);\n",
    "        END $$\n",
    "    \"\"\"))\n",
    "\n",
    "    print(run(cursor, \"SELECT * FROM personnel_mptt ORDER BY vleft\"))"
   ]
  },
  {
   "cell_type": "markdown",
   "id": "94547ee0",
   "metadata": {},
   "source": []
  }
 ],
 "metadata": {
  "kernelspec": {
   "display_name": ".venv",
   "language": "python",
   "name": "python3"
  },
  "language_info": {
   "codemirror_mode": {
    "name": "ipython",
    "version": 3
   },
   "file_extension": ".py",
   "mimetype": "text/x-python",
   "name": "python",
   "nbconvert_exporter": "python",
   "pygments_lexer": "ipython3",
   "version": "3.12.7"
  }
 },
 "nbformat": 4,
 "nbformat_minor": 5
}
